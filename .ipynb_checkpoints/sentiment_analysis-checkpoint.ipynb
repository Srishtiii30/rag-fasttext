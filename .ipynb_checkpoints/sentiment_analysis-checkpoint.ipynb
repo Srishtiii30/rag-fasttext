{
  "cells": [
    {
      "cell_type": "code",
      "execution_count": 4,
      "metadata": {
        "colab": {
          "base_uri": "https://localhost:8080/"
        },
        "id": "ol4doAjadYFl",
        "outputId": "841aa947-5c10-4ce8-916e-899cf914e251"
      },
      "outputs": [
        {
          "output_type": "stream",
          "name": "stdout",
          "text": [
            "Collecting lazypredict\n",
            "  Downloading lazypredict-0.2.12-py2.py3-none-any.whl (12 kB)\n",
            "Requirement already satisfied: click in /usr/local/lib/python3.10/dist-packages (from lazypredict) (8.1.7)\n",
            "Requirement already satisfied: scikit-learn in /usr/local/lib/python3.10/dist-packages (from lazypredict) (1.2.2)\n",
            "Requirement already satisfied: pandas in /usr/local/lib/python3.10/dist-packages (from lazypredict) (2.0.3)\n",
            "Requirement already satisfied: tqdm in /usr/local/lib/python3.10/dist-packages (from lazypredict) (4.66.4)\n",
            "Requirement already satisfied: joblib in /usr/local/lib/python3.10/dist-packages (from lazypredict) (1.4.2)\n",
            "Requirement already satisfied: lightgbm in /usr/local/lib/python3.10/dist-packages (from lazypredict) (4.1.0)\n",
            "Requirement already satisfied: xgboost in /usr/local/lib/python3.10/dist-packages (from lazypredict) (2.0.3)\n",
            "Requirement already satisfied: numpy in /usr/local/lib/python3.10/dist-packages (from lightgbm->lazypredict) (1.25.2)\n",
            "Requirement already satisfied: scipy in /usr/local/lib/python3.10/dist-packages (from lightgbm->lazypredict) (1.11.4)\n",
            "Requirement already satisfied: python-dateutil>=2.8.2 in /usr/local/lib/python3.10/dist-packages (from pandas->lazypredict) (2.8.2)\n",
            "Requirement already satisfied: pytz>=2020.1 in /usr/local/lib/python3.10/dist-packages (from pandas->lazypredict) (2023.4)\n",
            "Requirement already satisfied: tzdata>=2022.1 in /usr/local/lib/python3.10/dist-packages (from pandas->lazypredict) (2024.1)\n",
            "Requirement already satisfied: threadpoolctl>=2.0.0 in /usr/local/lib/python3.10/dist-packages (from scikit-learn->lazypredict) (3.5.0)\n",
            "Requirement already satisfied: six>=1.5 in /usr/local/lib/python3.10/dist-packages (from python-dateutil>=2.8.2->pandas->lazypredict) (1.16.0)\n",
            "Installing collected packages: lazypredict\n",
            "Successfully installed lazypredict-0.2.12\n"
          ]
        }
      ],
      "source": [
        "!pip install lazypredict\n",
        "import pandas as pd\n",
        "import numpy as np\n",
        "from sklearn.model_selection import train_test_split\n",
        "from sklearn.linear_model import LogisticRegression\n",
        "from sklearn.ensemble import RandomForestClassifier\n",
        "from sklearn.metrics import roc_curve, auc\n",
        "import matplotlib.pyplot as plt\n",
        "from gensim.models import FastText\n",
        "from nltk.tokenize import word_tokenize\n",
        "import nltk\n",
        "from lazypredict.Supervised import LazyClassifier"
      ]
    },
    {
      "cell_type": "code",
      "execution_count": null,
      "metadata": {
        "id": "KwQjDIm-epWR"
      },
      "outputs": [],
      "source": []
    },
    {
      "cell_type": "code",
      "execution_count": 5,
      "metadata": {
        "colab": {
          "base_uri": "https://localhost:8080/"
        },
        "id": "LcO0NVP_dbBv",
        "outputId": "da844b60-0df3-4ed9-a624-deb18d423041"
      },
      "outputs": [
        {
          "output_type": "stream",
          "name": "stderr",
          "text": [
            "[nltk_data] Downloading package punkt to /root/nltk_data...\n",
            "[nltk_data]   Unzipping tokenizers/punkt.zip.\n"
          ]
        },
        {
          "output_type": "execute_result",
          "data": {
            "text/plain": [
              "True"
            ]
          },
          "metadata": {},
          "execution_count": 5
        }
      ],
      "source": [
        "# Download necessary NLTK data\n",
        "nltk.download('punkt')\n",
        "\n"
      ]
    },
    {
      "cell_type": "code",
      "execution_count": 6,
      "metadata": {
        "id": "nBCVuMEGewZP"
      },
      "outputs": [],
      "source": [
        "# 2. Text Representation\n",
        "def get_fasttext_embeddings(model_path):\n",
        "    return FastText.load_fasttext_format(model_path)\n",
        "\n",
        "def tokenize_text(text):\n",
        "    return word_tokenize(text.lower())\n",
        "\n",
        "def get_text_embedding(text, model):\n",
        "    tokens = tokenize_text(text)\n",
        "    word_vectors = [model[word] for word in tokens if word in model]\n",
        "    if not word_vectors:\n",
        "        return np.zeros(model.vector_size)\n",
        "    return np.mean(word_vectors, axis=0)\n",
        "\n",
        "def prepare_data(data, fasttext_model):\n",
        "    X = np.array([get_text_embedding(review, fasttext_model) for review in data['review']])\n",
        "    y = (data['sentiment'] == 'positive').astype(int)\n",
        "    return X, y\n"
      ]
    },
    {
      "cell_type": "code",
      "execution_count": 14,
      "metadata": {
        "id": "G2Y4wP2ze5PN"
      },
      "outputs": [],
      "source": [
        "\n",
        "# 3. Model Training\n",
        "def train_models(X_train, y_train):\n",
        "    lr_model = LogisticRegression(random_state=42)\n",
        "    rf_model = RandomForestClassifier(random_state=42)\n",
        "\n",
        "    lr_model.fit(X_train, y_train)\n",
        "    rf_model.fit(X_train, y_train)\n",
        "\n",
        "    return lr_model, rf_model\n",
        "\n",
        "def train_lazy_models(X_train, X_test, y_train, y_test):\n",
        "    clf = LazyClassifier(verbose=0, ignore_warnings=True, custom_metric=None)\n",
        "    models, predictions = clf.fit(X_train, X_test, y_train, y_test)\n",
        "    return models, predictions\n",
        "\n",
        "\n",
        "\n",
        "# 4. Evaluation\n",
        "from sklearn.metrics import roc_curve, auc, accuracy_score, precision_score, recall_score, f1_score\n",
        "\n",
        "def evaluate_models(models, X_test, y_test):\n",
        "    results = {}\n",
        "    for name, model in models.items():\n",
        "        if hasattr(model, 'predict_proba'):\n",
        "            y_pred_proba = model.predict_proba(X_test)[:, 1]\n",
        "            y_pred = model.predict(X_test)\n",
        "            fpr, tpr, _ = roc_curve(y_test, y_pred_proba)\n",
        "            roc_auc = auc(fpr, tpr)\n",
        "            accuracy = accuracy_score(y_test, y_pred)\n",
        "            precision = precision_score(y_test, y_pred)\n",
        "            recall = recall_score(y_test, y_pred)\n",
        "            f1 = f1_score(y_test, y_pred)\n",
        "            results[name] = {\n",
        "                'fpr': fpr.tolist(),  # Convert to list for JSON serialization\n",
        "                'tpr': tpr.tolist(),\n",
        "                'auc': roc_auc,\n",
        "                'accuracy': accuracy,\n",
        "                'precision': precision,\n",
        "                'recall': recall,\n",
        "                'f1_score': f1\n",
        "            }\n",
        "        else:\n",
        "            print(f\"Model '{name}' does not have a predict_proba method. Skipping...\")\n",
        "    return results\n",
        "\n",
        "\n",
        "# Function to print evaluation metrics\n",
        "def print_evaluation_metrics(results):\n",
        "    print(\"\\nEvaluation Metrics:\")\n",
        "    print(\"-------------------\")\n",
        "    for name, metrics in results.items():\n",
        "        print(f\"\\nModel: {name}\")\n",
        "        print(f\"Accuracy: {metrics['accuracy']:.4f}\")\n",
        "        print(f\"Precision: {metrics['precision']:.4f}\")\n",
        "        print(f\"Recall: {metrics['recall']:.4f}\")\n",
        "        print(f\"F1 Score: {metrics['f1_score']:.4f}\")\n",
        "        print(f\"AUC: {metrics['auc']:.4f}\")\n",
        "\n",
        "# Function to print LazyPredict results\n",
        "def print_lazy_predict_results(predictions):\n",
        "    print(\"\\nLazyPredict Model Results:\")\n",
        "    print(\"---------------------------\")\n",
        "    print(predictions)\n",
        "\n",
        "def plot_roc_curves(results):\n",
        "    plt.figure(figsize=(10, 8))\n",
        "    for name, result in results.items():\n",
        "        plt.plot(result['fpr'], result['tpr'], label=f'{name} (AUC = {result[\"auc\"]:.2f})')\n",
        "    plt.plot([0, 1], [0, 1], linestyle='--', label='Random')\n",
        "    plt.xlabel('False Positive Rate')\n",
        "    plt.ylabel('True Positive Rate')\n",
        "    plt.title('Receiver Operating Characteristic (ROC) Curve')\n",
        "    plt.legend()\n",
        "    plt.show()\n",
        "\n"
      ]
    },
    {
      "cell_type": "code",
      "execution_count": 15,
      "metadata": {
        "colab": {
          "base_uri": "https://localhost:8080/"
        },
        "id": "Pb21BmOvf1rW",
        "outputId": "7247cbb1-6d63-49c7-ab01-98c8f24e1a8e"
      },
      "outputs": [
        {
          "output_type": "stream",
          "name": "stdout",
          "text": [
            "--2024-06-27 16:52:11--  https://dl.fbaipublicfiles.com/fasttext/vectors-english/wiki-news-300d-1M.vec.zip\n",
            "Resolving dl.fbaipublicfiles.com (dl.fbaipublicfiles.com)... 3.162.163.34, 3.162.163.11, 3.162.163.19, ...\n",
            "Connecting to dl.fbaipublicfiles.com (dl.fbaipublicfiles.com)|3.162.163.34|:443... connected.\n",
            "HTTP request sent, awaiting response... 200 OK\n",
            "Length: 681808098 (650M) [application/zip]\n",
            "Saving to: ‘wiki-news-300d-1M.vec.zip.1’\n",
            "\n",
            "wiki-news-300d-1M.v 100%[===================>] 650.22M   119MB/s    in 10s     \n",
            "\n",
            "2024-06-27 16:52:21 (64.5 MB/s) - ‘wiki-news-300d-1M.vec.zip.1’ saved [681808098/681808098]\n",
            "\n"
          ]
        }
      ],
      "source": [
        "!wget https://dl.fbaipublicfiles.com/fasttext/vectors-english/wiki-news-300d-1M.vec.zip\n"
      ]
    },
    {
      "cell_type": "code",
      "execution_count": 16,
      "metadata": {
        "colab": {
          "base_uri": "https://localhost:8080/"
        },
        "id": "3Ea63JStl8rH",
        "outputId": "c338d863-f408-45dd-e7d6-1272c87ba7b4"
      },
      "outputs": [
        {
          "output_type": "stream",
          "name": "stdout",
          "text": [
            "Archive:  wiki-news-300d-1M.vec.zip\n",
            "replace wiki-news-300d-1M.vec? [y]es, [n]o, [A]ll, [N]one, [r]ename: "
          ]
        }
      ],
      "source": [
        "!unzip wiki-news-300d-1M.vec.zip\n"
      ]
    },
    {
      "cell_type": "code",
      "execution_count": 17,
      "metadata": {
        "id": "2p_fkY5TfA-n"
      },
      "outputs": [],
      "source": [
        "# 1. Data Preparation\n",
        "import os\n",
        "def load_data(positive_path, negative_path):\n",
        "    data = {'review': [], 'sentiment': []}\n",
        "\n",
        "    # Load positive reviews\n",
        "    with open(positive_path, 'r', encoding='utf-8') as file:\n",
        "        positive_reviews = file.readlines()\n",
        "        data['review'].extend(positive_reviews)\n",
        "        data['sentiment'].extend(['positive'] * len(positive_reviews))\n",
        "\n",
        "    # Load negative reviews\n",
        "    with open(negative_path, 'r', encoding='utf-8') as file:\n",
        "        negative_reviews = file.readlines()\n",
        "        data['review'].extend(negative_reviews)\n",
        "        data['sentiment'].extend(['negative'] * len(negative_reviews))\n",
        "\n",
        "    return pd.DataFrame(data)\n",
        "\n",
        "# Load FastText word vectors into memory\n",
        "import gensim\n",
        "def load_fasttext_vectors(vec_file):\n",
        "    print(\"Loading FastText word vectors...\")\n",
        "    model = gensim.models.KeyedVectors.load_word2vec_format(vec_file, binary=False)\n",
        "    print(\"Word vectors loaded.\")\n",
        "    return model\n",
        "\n",
        "fasttext_vec_file = \"wiki-news-300d-1M.vec\"\n"
      ]
    },
    {
      "cell_type": "code",
      "execution_count": 18,
      "metadata": {
        "colab": {
          "base_uri": "https://localhost:8080/",
          "height": 1000
        },
        "id": "lB0858FBnCNf",
        "outputId": "4839e2ec-bf3f-4666-873d-b03fdc2f12bd"
      },
      "outputs": [
        {
          "output_type": "stream",
          "name": "stdout",
          "text": [
            "Loading FastText word vectors...\n",
            "Word vectors loaded.\n"
          ]
        },
        {
          "output_type": "stream",
          "name": "stderr",
          "text": [
            " 97%|█████████▋| 28/29 [03:14<00:07,  7.79s/it]"
          ]
        },
        {
          "output_type": "stream",
          "name": "stdout",
          "text": [
            "[LightGBM] [Info] Number of positive: 6385, number of negative: 2613\n",
            "[LightGBM] [Info] Auto-choosing col-wise multi-threading, the overhead of testing was 0.038421 seconds.\n",
            "You can set `force_col_wise=true` to remove the overhead.\n",
            "[LightGBM] [Info] Total Bins 76500\n",
            "[LightGBM] [Info] Number of data points in the train set: 8998, number of used features: 300\n",
            "[LightGBM] [Info] [binary:BoostFromScore]: pavg=0.709602 -> initscore=0.893453\n",
            "[LightGBM] [Info] Start training from score 0.893453\n"
          ]
        },
        {
          "output_type": "stream",
          "name": "stderr",
          "text": [
            "100%|██████████| 29/29 [03:21<00:00,  6.95s/it]\n"
          ]
        },
        {
          "output_type": "stream",
          "name": "stdout",
          "text": [
            "\n",
            "LazyPredict Model Results:\n",
            "---------------------------\n",
            "                               Accuracy  Balanced Accuracy  ROC AUC  F1 Score  \\\n",
            "Model                                                                           \n",
            "SVC                                0.96               0.94     0.94      0.96   \n",
            "LinearSVC                          0.95               0.94     0.94      0.95   \n",
            "LogisticRegression                 0.95               0.94     0.94      0.95   \n",
            "CalibratedClassifierCV             0.95               0.93     0.93      0.95   \n",
            "PassiveAggressiveClassifier        0.94               0.93     0.93      0.94   \n",
            "LGBMClassifier                     0.94               0.92     0.92      0.94   \n",
            "SGDClassifier                      0.93               0.92     0.92      0.93   \n",
            "XGBClassifier                      0.94               0.92     0.92      0.94   \n",
            "Perceptron                         0.93               0.92     0.92      0.93   \n",
            "LinearDiscriminantAnalysis         0.94               0.91     0.91      0.93   \n",
            "RidgeClassifierCV                  0.93               0.90     0.90      0.93   \n",
            "RidgeClassifier                    0.93               0.90     0.90      0.93   \n",
            "AdaBoostClassifier                 0.91               0.89     0.89      0.91   \n",
            "KNeighborsClassifier               0.88               0.87     0.87      0.88   \n",
            "RandomForestClassifier             0.91               0.87     0.87      0.91   \n",
            "BaggingClassifier                  0.88               0.85     0.85      0.88   \n",
            "ExtraTreesClassifier               0.91               0.85     0.85      0.90   \n",
            "NearestCentroid                    0.82               0.85     0.85      0.83   \n",
            "NuSVC                              0.90               0.84     0.84      0.90   \n",
            "BernoulliNB                        0.83               0.83     0.83      0.84   \n",
            "DecisionTreeClassifier             0.82               0.79     0.79      0.82   \n",
            "QuadraticDiscriminantAnalysis      0.75               0.77     0.77      0.77   \n",
            "GaussianNB                         0.72               0.77     0.77      0.73   \n",
            "ExtraTreeClassifier                0.76               0.71     0.71      0.76   \n",
            "LabelSpreading                     0.37               0.56     0.56      0.29   \n",
            "LabelPropagation                   0.37               0.56     0.56      0.29   \n",
            "DummyClassifier                    0.72               0.50     0.50      0.60   \n",
            "\n",
            "                               Time Taken  \n",
            "Model                                      \n",
            "SVC                                  7.64  \n",
            "LinearSVC                            5.34  \n",
            "LogisticRegression                   0.68  \n",
            "CalibratedClassifierCV              23.95  \n",
            "PassiveAggressiveClassifier          0.23  \n",
            "LGBMClassifier                       7.40  \n",
            "SGDClassifier                        0.99  \n",
            "XGBClassifier                       22.92  \n",
            "Perceptron                           0.21  \n",
            "LinearDiscriminantAnalysis           0.76  \n",
            "RidgeClassifierCV                    1.09  \n",
            "RidgeClassifier                      0.37  \n",
            "AdaBoostClassifier                  26.95  \n",
            "KNeighborsClassifier                 0.91  \n",
            "RandomForestClassifier              19.93  \n",
            "BaggingClassifier                   35.11  \n",
            "ExtraTreesClassifier                 5.09  \n",
            "NearestCentroid                      0.16  \n",
            "NuSVC                               21.59  \n",
            "BernoulliNB                          0.29  \n",
            "DecisionTreeClassifier               5.17  \n",
            "QuadraticDiscriminantAnalysis        0.60  \n",
            "GaussianNB                           0.24  \n",
            "ExtraTreeClassifier                  0.24  \n",
            "LabelSpreading                       6.82  \n",
            "LabelPropagation                     6.55  \n",
            "DummyClassifier                      0.15  \n",
            "\n",
            "Evaluation Metrics:\n",
            "-------------------\n",
            "\n",
            "Model: Logistic Regression\n",
            "Accuracy: 0.8978\n",
            "Precision: 0.8904\n",
            "Recall: 0.9777\n",
            "F1 Score: 0.9320\n",
            "AUC: 0.9677\n",
            "\n",
            "Model: Random Forest\n",
            "Accuracy: 0.9031\n",
            "Precision: 0.8938\n",
            "Recall: 0.9814\n",
            "F1 Score: 0.9355\n",
            "AUC: 0.9704\n"
          ]
        },
        {
          "output_type": "display_data",
          "data": {
            "text/plain": [
              "<Figure size 1000x800 with 1 Axes>"
            ],
            "image/png": "[encoded data removed]"
          },
          "metadata": {}
        }
      ],
      "source": [
        "# Main execution\n",
        "def main():\n",
        "    # Load data\n",
        "    data = load_data('/content/TrainingDataPositive.txt', '/content/TrainingDataNegative.txt')\n",
        "\n",
        "    # Split data into train and test sets\n",
        "    train_data, test_data = train_test_split(data, test_size=0.2, random_state=42)\n",
        "\n",
        "    # Further split test data into test and validation sets\n",
        "    test_data, val_data = train_test_split(test_data, test_size=0.5, random_state=42)\n",
        "\n",
        "    # Load FastText word vectors\n",
        "    fasttext_model = load_fasttext_vectors(fasttext_vec_file)\n",
        "\n",
        "    # Prepare data\n",
        "    X_train, y_train = prepare_data(train_data, fasttext_model)\n",
        "    X_test, y_test = prepare_data(test_data, fasttext_model)\n",
        "    X_val, y_val = prepare_data(val_data, fasttext_model)\n",
        "\n",
        "    # Train models\n",
        "    lr_model, rf_model = train_models(X_train, y_train)\n",
        "\n",
        "    # Train lazy models and get predictions\n",
        "    lazy_models, lazy_predictions = train_lazy_models(X_train, X_val, y_train, y_val)\n",
        "\n",
        "    # Print LazyPredict results\n",
        "    print_lazy_predict_results(lazy_predictions)\n",
        "\n",
        "    # Evaluate custom models\n",
        "    custom_models = {'Logistic Regression': lr_model, 'Random Forest': rf_model}\n",
        "    custom_results = evaluate_models(custom_models, X_test, y_test)\n",
        "\n",
        "    # Print evaluation metrics for custom models\n",
        "    print_evaluation_metrics(custom_results)\n",
        "\n",
        "    # Plot ROC curves for custom models\n",
        "    plot_roc_curves(custom_results)\n",
        "\n",
        "if __name__ == \"__main__\":\n",
        "    main()"
      ]
    },
    {
      "cell_type": "code",
      "source": [],
      "metadata": {
        "id": "IvyqC2MMRhNl"
      },
      "execution_count": null,
      "outputs": []
    }
  ],
  "metadata": {
    "colab": {
      "provenance": []
    },
    "kernelspec": {
      "display_name": "Python 3",
      "name": "python3"
    },
    "language_info": {
      "name": "python"
    }
  },
  "nbformat": 4,
  "nbformat_minor": 0
}